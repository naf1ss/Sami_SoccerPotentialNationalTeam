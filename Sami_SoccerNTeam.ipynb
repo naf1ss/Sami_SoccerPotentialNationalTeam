{
 "cells": [
  {
   "cell_type": "markdown",
   "id": "a67a8e45",
   "metadata": {},
   "source": [
    "## Soccer National Team Selection Predictor"
   ]
  },
  {
   "cell_type": "markdown",
   "id": "cc103880",
   "metadata": {},
   "source": [
    "by Md Nafisul Hasan Sami"
   ]
  },
  {
   "cell_type": "code",
   "execution_count": 23,
   "id": "87498ef0",
   "metadata": {},
   "outputs": [
    {
     "name": "stdout",
     "output_type": "stream",
     "text": [
      "Dataset shape: (2852, 37)\n",
      "\n",
      "Missing values:\n",
      " Rk             0\n",
      "Player         0\n",
      "Nation         3\n",
      "Pos            0\n",
      "Squad          0\n",
      "Comp           0\n",
      "Age            4\n",
      "Born           4\n",
      "MP             0\n",
      "Starts         0\n",
      "Min            0\n",
      "90s            0\n",
      "Gls            0\n",
      "Ast            0\n",
      "G+A            0\n",
      "G-PK           0\n",
      "PK             0\n",
      "PKatt          0\n",
      "CrdY           0\n",
      "CrdR           0\n",
      "xG             1\n",
      "npxG           1\n",
      "xAG            1\n",
      "npxG+xAG       1\n",
      "PrgC           1\n",
      "PrgP           1\n",
      "PrgR           1\n",
      "Gls_90         0\n",
      "Ast_90         0\n",
      "G+A_90         0\n",
      "G-PK_90        0\n",
      "G+A-PK_90      0\n",
      "xG_90          1\n",
      "xAG_90         1\n",
      "xG+xAG_90      1\n",
      "npxG_90        1\n",
      "npxG+xAG_90    1\n",
      "dtype: int64\n"
     ]
    },
    {
     "data": {
      "application/vnd.microsoft.datawrangler.viewer.v0+json": {
       "columns": [
        {
         "name": "index",
         "rawType": "int64",
         "type": "integer"
        },
        {
         "name": "Nation",
         "rawType": "object",
         "type": "string"
        },
        {
         "name": "Pos",
         "rawType": "object",
         "type": "string"
        },
        {
         "name": "Age",
         "rawType": "float64",
         "type": "float"
        },
        {
         "name": "MP",
         "rawType": "int64",
         "type": "integer"
        },
        {
         "name": "Starts",
         "rawType": "int64",
         "type": "integer"
        },
        {
         "name": "Min",
         "rawType": "int64",
         "type": "integer"
        },
        {
         "name": "90s",
         "rawType": "float64",
         "type": "float"
        },
        {
         "name": "Gls",
         "rawType": "int64",
         "type": "integer"
        },
        {
         "name": "Ast",
         "rawType": "int64",
         "type": "integer"
        },
        {
         "name": "G+A",
         "rawType": "int64",
         "type": "integer"
        },
        {
         "name": "G-PK",
         "rawType": "int64",
         "type": "integer"
        },
        {
         "name": "PK",
         "rawType": "int64",
         "type": "integer"
        },
        {
         "name": "PKatt",
         "rawType": "int64",
         "type": "integer"
        },
        {
         "name": "CrdY",
         "rawType": "int64",
         "type": "integer"
        },
        {
         "name": "CrdR",
         "rawType": "int64",
         "type": "integer"
        },
        {
         "name": "xG",
         "rawType": "float64",
         "type": "float"
        },
        {
         "name": "npxG",
         "rawType": "float64",
         "type": "float"
        },
        {
         "name": "xAG",
         "rawType": "float64",
         "type": "float"
        },
        {
         "name": "npxG+xAG",
         "rawType": "float64",
         "type": "float"
        },
        {
         "name": "PrgC",
         "rawType": "float64",
         "type": "float"
        },
        {
         "name": "PrgP",
         "rawType": "float64",
         "type": "float"
        },
        {
         "name": "PrgR",
         "rawType": "float64",
         "type": "float"
        },
        {
         "name": "Gls_90",
         "rawType": "float64",
         "type": "float"
        },
        {
         "name": "Ast_90",
         "rawType": "float64",
         "type": "float"
        },
        {
         "name": "G+A_90",
         "rawType": "float64",
         "type": "float"
        },
        {
         "name": "G-PK_90",
         "rawType": "float64",
         "type": "float"
        },
        {
         "name": "G+A-PK_90",
         "rawType": "float64",
         "type": "float"
        },
        {
         "name": "xG_90",
         "rawType": "float64",
         "type": "float"
        },
        {
         "name": "xAG_90",
         "rawType": "float64",
         "type": "float"
        },
        {
         "name": "xG+xAG_90",
         "rawType": "float64",
         "type": "float"
        },
        {
         "name": "npxG_90",
         "rawType": "float64",
         "type": "float"
        },
        {
         "name": "npxG+xAG_90",
         "rawType": "float64",
         "type": "float"
        }
       ],
       "conversionMethod": "pd.DataFrame",
       "ref": "1674c8c5-92ea-4c9f-904c-f32abc0c6bc5",
       "rows": [
        [
         "0",
         "eng ENG",
         "DF",
         "23.0",
         "20",
         "13",
         "1237",
         "13.7",
         "0",
         "1",
         "1",
         "0",
         "0",
         "0",
         "1",
         "0",
         "0.0",
         "0.0",
         "0.8",
         "0.9",
         "22.0",
         "43.0",
         "26.0",
         "0.0",
         "0.07",
         "0.07",
         "0.0",
         "0.07",
         "0.0",
         "0.06",
         "0.06",
         "0.0",
         "0.06"
        ],
        [
         "1",
         "us USA",
         "MF,FW",
         "22.0",
         "30",
         "14",
         "1267",
         "14.1",
         "2",
         "2",
         "4",
         "2",
         "0",
         "0",
         "3",
         "1",
         "2.0",
         "2.0",
         "1.9",
         "3.8",
         "37.0",
         "56.0",
         "91.0",
         "0.14",
         "0.14",
         "0.28",
         "0.14",
         "0.28",
         "0.14",
         "0.13",
         "0.27",
         "0.14",
         "0.27"
        ],
        [
         "2",
         "us USA",
         "MF",
         "19.0",
         "7",
         "1",
         "101",
         "1.1",
         "0",
         "1",
         "1",
         "0",
         "0",
         "0",
         "0",
         "0",
         "0.1",
         "0.1",
         "0.1",
         "0.2",
         "2.0",
         "5.0",
         "7.0",
         "0.0",
         "0.89",
         "0.89",
         "0.0",
         "0.89",
         "0.11",
         "0.07",
         "0.19",
         "0.11",
         "0.19"
        ],
        [
         "3",
         "fr FRA",
         "FW",
         "17.0",
         "1",
         "0",
         "4",
         "0.0",
         "0",
         "0",
         "0",
         "0",
         "0",
         "0",
         "0",
         "0",
         "0.0",
         "0.0",
         "0.0",
         "0.0",
         "0.0",
         "0.0",
         "0.0",
         "0.0",
         "0.0",
         "0.0",
         "0.0",
         "0.0",
         "0.0",
         "0.0",
         "0.0",
         "0.0",
         "0.0"
        ],
        [
         "4",
         "ma MAR",
         "DF",
         "35.0",
         "31",
         "31",
         "2781",
         "30.9",
         "4",
         "0",
         "4",
         "3",
         "1",
         "1",
         "5",
         "0",
         "3.4",
         "2.6",
         "0.3",
         "2.9",
         "36.0",
         "137.0",
         "9.0",
         "0.13",
         "0.0",
         "0.13",
         "0.1",
         "0.1",
         "0.11",
         "0.01",
         "0.12",
         "0.09",
         "0.09"
        ]
       ],
       "shape": {
        "columns": 32,
        "rows": 5
       }
      },
      "text/html": [
       "<div>\n",
       "<style scoped>\n",
       "    .dataframe tbody tr th:only-of-type {\n",
       "        vertical-align: middle;\n",
       "    }\n",
       "\n",
       "    .dataframe tbody tr th {\n",
       "        vertical-align: top;\n",
       "    }\n",
       "\n",
       "    .dataframe thead th {\n",
       "        text-align: right;\n",
       "    }\n",
       "</style>\n",
       "<table border=\"1\" class=\"dataframe\">\n",
       "  <thead>\n",
       "    <tr style=\"text-align: right;\">\n",
       "      <th></th>\n",
       "      <th>Nation</th>\n",
       "      <th>Pos</th>\n",
       "      <th>Age</th>\n",
       "      <th>MP</th>\n",
       "      <th>Starts</th>\n",
       "      <th>Min</th>\n",
       "      <th>90s</th>\n",
       "      <th>Gls</th>\n",
       "      <th>Ast</th>\n",
       "      <th>G+A</th>\n",
       "      <th>...</th>\n",
       "      <th>Gls_90</th>\n",
       "      <th>Ast_90</th>\n",
       "      <th>G+A_90</th>\n",
       "      <th>G-PK_90</th>\n",
       "      <th>G+A-PK_90</th>\n",
       "      <th>xG_90</th>\n",
       "      <th>xAG_90</th>\n",
       "      <th>xG+xAG_90</th>\n",
       "      <th>npxG_90</th>\n",
       "      <th>npxG+xAG_90</th>\n",
       "    </tr>\n",
       "  </thead>\n",
       "  <tbody>\n",
       "    <tr>\n",
       "      <th>0</th>\n",
       "      <td>eng ENG</td>\n",
       "      <td>DF</td>\n",
       "      <td>23.0</td>\n",
       "      <td>20</td>\n",
       "      <td>13</td>\n",
       "      <td>1237</td>\n",
       "      <td>13.7</td>\n",
       "      <td>0</td>\n",
       "      <td>1</td>\n",
       "      <td>1</td>\n",
       "      <td>...</td>\n",
       "      <td>0.00</td>\n",
       "      <td>0.07</td>\n",
       "      <td>0.07</td>\n",
       "      <td>0.00</td>\n",
       "      <td>0.07</td>\n",
       "      <td>0.00</td>\n",
       "      <td>0.06</td>\n",
       "      <td>0.06</td>\n",
       "      <td>0.00</td>\n",
       "      <td>0.06</td>\n",
       "    </tr>\n",
       "    <tr>\n",
       "      <th>1</th>\n",
       "      <td>us USA</td>\n",
       "      <td>MF,FW</td>\n",
       "      <td>22.0</td>\n",
       "      <td>30</td>\n",
       "      <td>14</td>\n",
       "      <td>1267</td>\n",
       "      <td>14.1</td>\n",
       "      <td>2</td>\n",
       "      <td>2</td>\n",
       "      <td>4</td>\n",
       "      <td>...</td>\n",
       "      <td>0.14</td>\n",
       "      <td>0.14</td>\n",
       "      <td>0.28</td>\n",
       "      <td>0.14</td>\n",
       "      <td>0.28</td>\n",
       "      <td>0.14</td>\n",
       "      <td>0.13</td>\n",
       "      <td>0.27</td>\n",
       "      <td>0.14</td>\n",
       "      <td>0.27</td>\n",
       "    </tr>\n",
       "    <tr>\n",
       "      <th>2</th>\n",
       "      <td>us USA</td>\n",
       "      <td>MF</td>\n",
       "      <td>19.0</td>\n",
       "      <td>7</td>\n",
       "      <td>1</td>\n",
       "      <td>101</td>\n",
       "      <td>1.1</td>\n",
       "      <td>0</td>\n",
       "      <td>1</td>\n",
       "      <td>1</td>\n",
       "      <td>...</td>\n",
       "      <td>0.00</td>\n",
       "      <td>0.89</td>\n",
       "      <td>0.89</td>\n",
       "      <td>0.00</td>\n",
       "      <td>0.89</td>\n",
       "      <td>0.11</td>\n",
       "      <td>0.07</td>\n",
       "      <td>0.19</td>\n",
       "      <td>0.11</td>\n",
       "      <td>0.19</td>\n",
       "    </tr>\n",
       "    <tr>\n",
       "      <th>3</th>\n",
       "      <td>fr FRA</td>\n",
       "      <td>FW</td>\n",
       "      <td>17.0</td>\n",
       "      <td>1</td>\n",
       "      <td>0</td>\n",
       "      <td>4</td>\n",
       "      <td>0.0</td>\n",
       "      <td>0</td>\n",
       "      <td>0</td>\n",
       "      <td>0</td>\n",
       "      <td>...</td>\n",
       "      <td>0.00</td>\n",
       "      <td>0.00</td>\n",
       "      <td>0.00</td>\n",
       "      <td>0.00</td>\n",
       "      <td>0.00</td>\n",
       "      <td>0.00</td>\n",
       "      <td>0.00</td>\n",
       "      <td>0.00</td>\n",
       "      <td>0.00</td>\n",
       "      <td>0.00</td>\n",
       "    </tr>\n",
       "    <tr>\n",
       "      <th>4</th>\n",
       "      <td>ma MAR</td>\n",
       "      <td>DF</td>\n",
       "      <td>35.0</td>\n",
       "      <td>31</td>\n",
       "      <td>31</td>\n",
       "      <td>2781</td>\n",
       "      <td>30.9</td>\n",
       "      <td>4</td>\n",
       "      <td>0</td>\n",
       "      <td>4</td>\n",
       "      <td>...</td>\n",
       "      <td>0.13</td>\n",
       "      <td>0.00</td>\n",
       "      <td>0.13</td>\n",
       "      <td>0.10</td>\n",
       "      <td>0.10</td>\n",
       "      <td>0.11</td>\n",
       "      <td>0.01</td>\n",
       "      <td>0.12</td>\n",
       "      <td>0.09</td>\n",
       "      <td>0.09</td>\n",
       "    </tr>\n",
       "  </tbody>\n",
       "</table>\n",
       "<p>5 rows × 32 columns</p>\n",
       "</div>"
      ],
      "text/plain": [
       "    Nation    Pos   Age  MP  Starts   Min   90s  Gls  Ast  G+A  ...  Gls_90  \\\n",
       "0  eng ENG     DF  23.0  20      13  1237  13.7    0    1    1  ...    0.00   \n",
       "1   us USA  MF,FW  22.0  30      14  1267  14.1    2    2    4  ...    0.14   \n",
       "2   us USA     MF  19.0   7       1   101   1.1    0    1    1  ...    0.00   \n",
       "3   fr FRA     FW  17.0   1       0     4   0.0    0    0    0  ...    0.00   \n",
       "4   ma MAR     DF  35.0  31      31  2781  30.9    4    0    4  ...    0.13   \n",
       "\n",
       "   Ast_90  G+A_90  G-PK_90  G+A-PK_90  xG_90  xAG_90  xG+xAG_90  npxG_90  \\\n",
       "0    0.07    0.07     0.00       0.07   0.00    0.06       0.06     0.00   \n",
       "1    0.14    0.28     0.14       0.28   0.14    0.13       0.27     0.14   \n",
       "2    0.89    0.89     0.00       0.89   0.11    0.07       0.19     0.11   \n",
       "3    0.00    0.00     0.00       0.00   0.00    0.00       0.00     0.00   \n",
       "4    0.00    0.13     0.10       0.10   0.11    0.01       0.12     0.09   \n",
       "\n",
       "   npxG+xAG_90  \n",
       "0         0.06  \n",
       "1         0.27  \n",
       "2         0.19  \n",
       "3         0.00  \n",
       "4         0.09  \n",
       "\n",
       "[5 rows x 32 columns]"
      ]
     },
     "metadata": {},
     "output_type": "display_data"
    }
   ],
   "source": [
    "# Imports\n",
    "import pandas as pd\n",
    "import numpy as np\n",
    "import matplotlib.pyplot as plt\n",
    "import seaborn as sns\n",
    "# Import modeling tools\n",
    "from sklearn.model_selection import train_test_split\n",
    "from sklearn.linear_model import LogisticRegression\n",
    "from sklearn.metrics import classification_report, confusion_matrix, accuracy_score\n",
    "from sklearn.ensemble import RandomForestClassifier\n",
    "\n",
    "\n",
    "\n",
    "# Load the data\n",
    "df = pd.read_csv(\"top5-players.csv\")\n",
    "\n",
    "# Display shape and column info\n",
    "print(\"Dataset shape:\", df.shape)\n",
    "print(\"\\nMissing values:\\n\", df.isnull().sum())\n",
    "\n",
    "# Drop irrelevant columns (e.g., Player name, Squad name, etc.)\n",
    "df = df.drop(columns=[\"Rk\", \"Player\", \"Squad\", \"Comp\", \"Born\"])\n",
    "\n",
    "# Drop rows with missing values (optional: or fill them)\n",
    "df.dropna(inplace=True)\n",
    "\n",
    "# Display cleaned data\n",
    "display(df.head())\n"
   ]
  },
  {
   "cell_type": "code",
   "execution_count": 24,
   "id": "33ce18ee",
   "metadata": {},
   "outputs": [
    {
     "data": {
      "text/plain": [
       "Selected\n",
       "0    2365\n",
       "1     487\n",
       "Name: count, dtype: int64"
      ]
     },
     "execution_count": 24,
     "metadata": {},
     "output_type": "execute_result"
    }
   ],
   "source": [
    "\n",
    "# Copy the original dataframes\n",
    "df_original = pd.read_csv(\"top5-players.csv\")\n",
    "df_national = pd.read_csv(\"2ndDataSoccer.csv\")\n",
    "\n",
    "# Combine given and family names from national team dataset\n",
    "df_national[\"full_name\"] = (df_national[\"given_name\"] + \" \" + df_national[\"family_name\"]).str.lower().str.strip()\n",
    "\n",
    "# Normalize player names in original dataset\n",
    "df_original[\"normalized_name\"] = df_original[\"Player\"].str.lower().str.strip()\n",
    "\n",
    "# Create a 'Selected' column based on match with national team names\n",
    "df_original[\"Selected\"] = df_original[\"normalized_name\"].isin(df_national[\"full_name\"]).astype(int)\n",
    "\n",
    "# Count how many players are selected\n",
    "selected_count = df_original[\"Selected\"].value_counts()\n",
    "\n",
    "\n",
    "selected_count\n"
   ]
  },
  {
   "cell_type": "code",
   "execution_count": 25,
   "id": "8729b92e",
   "metadata": {},
   "outputs": [
    {
     "name": "stdout",
     "output_type": "stream",
     "text": [
      "Selected\n",
      "0    2365\n",
      "1     487\n",
      "Name: count, dtype: int64\n"
     ]
    },
    {
     "data": {
      "application/vnd.microsoft.datawrangler.viewer.v0+json": {
       "columns": [
        {
         "name": "index",
         "rawType": "int64",
         "type": "integer"
        },
        {
         "name": "Rk",
         "rawType": "int64",
         "type": "integer"
        },
        {
         "name": "Player",
         "rawType": "object",
         "type": "string"
        },
        {
         "name": "Nation",
         "rawType": "object",
         "type": "string"
        },
        {
         "name": "Pos",
         "rawType": "object",
         "type": "string"
        },
        {
         "name": "Squad",
         "rawType": "object",
         "type": "string"
        },
        {
         "name": "Comp",
         "rawType": "object",
         "type": "string"
        },
        {
         "name": "Age",
         "rawType": "float64",
         "type": "float"
        },
        {
         "name": "Born",
         "rawType": "float64",
         "type": "float"
        },
        {
         "name": "MP",
         "rawType": "int64",
         "type": "integer"
        },
        {
         "name": "Starts",
         "rawType": "int64",
         "type": "integer"
        },
        {
         "name": "Min",
         "rawType": "int64",
         "type": "integer"
        },
        {
         "name": "90s",
         "rawType": "float64",
         "type": "float"
        },
        {
         "name": "Gls",
         "rawType": "int64",
         "type": "integer"
        },
        {
         "name": "Ast",
         "rawType": "int64",
         "type": "integer"
        },
        {
         "name": "G+A",
         "rawType": "int64",
         "type": "integer"
        },
        {
         "name": "G-PK",
         "rawType": "int64",
         "type": "integer"
        },
        {
         "name": "PK",
         "rawType": "int64",
         "type": "integer"
        },
        {
         "name": "PKatt",
         "rawType": "int64",
         "type": "integer"
        },
        {
         "name": "CrdY",
         "rawType": "int64",
         "type": "integer"
        },
        {
         "name": "CrdR",
         "rawType": "int64",
         "type": "integer"
        },
        {
         "name": "xG",
         "rawType": "float64",
         "type": "float"
        },
        {
         "name": "npxG",
         "rawType": "float64",
         "type": "float"
        },
        {
         "name": "xAG",
         "rawType": "float64",
         "type": "float"
        },
        {
         "name": "npxG+xAG",
         "rawType": "float64",
         "type": "float"
        },
        {
         "name": "PrgC",
         "rawType": "float64",
         "type": "float"
        },
        {
         "name": "PrgP",
         "rawType": "float64",
         "type": "float"
        },
        {
         "name": "PrgR",
         "rawType": "float64",
         "type": "float"
        },
        {
         "name": "Gls_90",
         "rawType": "float64",
         "type": "float"
        },
        {
         "name": "Ast_90",
         "rawType": "float64",
         "type": "float"
        },
        {
         "name": "G+A_90",
         "rawType": "float64",
         "type": "float"
        },
        {
         "name": "G-PK_90",
         "rawType": "float64",
         "type": "float"
        },
        {
         "name": "G+A-PK_90",
         "rawType": "float64",
         "type": "float"
        },
        {
         "name": "xG_90",
         "rawType": "float64",
         "type": "float"
        },
        {
         "name": "xAG_90",
         "rawType": "float64",
         "type": "float"
        },
        {
         "name": "xG+xAG_90",
         "rawType": "float64",
         "type": "float"
        },
        {
         "name": "npxG_90",
         "rawType": "float64",
         "type": "float"
        },
        {
         "name": "npxG+xAG_90",
         "rawType": "float64",
         "type": "float"
        },
        {
         "name": "normalized_name",
         "rawType": "object",
         "type": "string"
        },
        {
         "name": "Selected",
         "rawType": "int64",
         "type": "integer"
        }
       ],
       "conversionMethod": "pd.DataFrame",
       "ref": "80ec10b4-8820-41c5-b598-af5b5f983a53",
       "rows": [
        [
         "0",
         "1",
         "Max Aarons",
         "eng ENG",
         "DF",
         "Bournemouth",
         "eng Premier League",
         "23.0",
         "2000.0",
         "20",
         "13",
         "1237",
         "13.7",
         "0",
         "1",
         "1",
         "0",
         "0",
         "0",
         "1",
         "0",
         "0.0",
         "0.0",
         "0.8",
         "0.9",
         "22.0",
         "43.0",
         "26.0",
         "0.0",
         "0.07",
         "0.07",
         "0.0",
         "0.07",
         "0.0",
         "0.06",
         "0.06",
         "0.0",
         "0.06",
         "max aarons",
         "0"
        ],
        [
         "1",
         "2",
         "Brenden Aaronson",
         "us USA",
         "MF,FW",
         "Union Berlin",
         "de Bundesliga",
         "22.0",
         "2000.0",
         "30",
         "14",
         "1267",
         "14.1",
         "2",
         "2",
         "4",
         "2",
         "0",
         "0",
         "3",
         "1",
         "2.0",
         "2.0",
         "1.9",
         "3.8",
         "37.0",
         "56.0",
         "91.0",
         "0.14",
         "0.14",
         "0.28",
         "0.14",
         "0.28",
         "0.14",
         "0.13",
         "0.27",
         "0.14",
         "0.27",
         "brenden aaronson",
         "1"
        ],
        [
         "2",
         "3",
         "Paxten Aaronson",
         "us USA",
         "MF",
         "Eint Frankfurt",
         "de Bundesliga",
         "19.0",
         "2003.0",
         "7",
         "1",
         "101",
         "1.1",
         "0",
         "1",
         "1",
         "0",
         "0",
         "0",
         "0",
         "0",
         "0.1",
         "0.1",
         "0.1",
         "0.2",
         "2.0",
         "5.0",
         "7.0",
         "0.0",
         "0.89",
         "0.89",
         "0.0",
         "0.89",
         "0.11",
         "0.07",
         "0.19",
         "0.11",
         "0.19",
         "paxten aaronson",
         "0"
        ],
        [
         "3",
         "4",
         "Keyliane Abdallah",
         "fr FRA",
         "FW",
         "Marseille",
         "fr Ligue 1",
         "17.0",
         "2006.0",
         "1",
         "0",
         "4",
         "0.0",
         "0",
         "0",
         "0",
         "0",
         "0",
         "0",
         "0",
         "0",
         "0.0",
         "0.0",
         "0.0",
         "0.0",
         "0.0",
         "0.0",
         "0.0",
         "0.0",
         "0.0",
         "0.0",
         "0.0",
         "0.0",
         "0.0",
         "0.0",
         "0.0",
         "0.0",
         "0.0",
         "keyliane abdallah",
         "0"
        ],
        [
         "4",
         "5",
         "Yunis Abdelhamid",
         "ma MAR",
         "DF",
         "Reims",
         "fr Ligue 1",
         "35.0",
         "1987.0",
         "31",
         "31",
         "2781",
         "30.9",
         "4",
         "0",
         "4",
         "3",
         "1",
         "1",
         "5",
         "0",
         "3.4",
         "2.6",
         "0.3",
         "2.9",
         "36.0",
         "137.0",
         "9.0",
         "0.13",
         "0.0",
         "0.13",
         "0.1",
         "0.1",
         "0.11",
         "0.01",
         "0.12",
         "0.09",
         "0.09",
         "yunis abdelhamid",
         "0"
        ]
       ],
       "shape": {
        "columns": 39,
        "rows": 5
       }
      },
      "text/html": [
       "<div>\n",
       "<style scoped>\n",
       "    .dataframe tbody tr th:only-of-type {\n",
       "        vertical-align: middle;\n",
       "    }\n",
       "\n",
       "    .dataframe tbody tr th {\n",
       "        vertical-align: top;\n",
       "    }\n",
       "\n",
       "    .dataframe thead th {\n",
       "        text-align: right;\n",
       "    }\n",
       "</style>\n",
       "<table border=\"1\" class=\"dataframe\">\n",
       "  <thead>\n",
       "    <tr style=\"text-align: right;\">\n",
       "      <th></th>\n",
       "      <th>Rk</th>\n",
       "      <th>Player</th>\n",
       "      <th>Nation</th>\n",
       "      <th>Pos</th>\n",
       "      <th>Squad</th>\n",
       "      <th>Comp</th>\n",
       "      <th>Age</th>\n",
       "      <th>Born</th>\n",
       "      <th>MP</th>\n",
       "      <th>Starts</th>\n",
       "      <th>...</th>\n",
       "      <th>G+A_90</th>\n",
       "      <th>G-PK_90</th>\n",
       "      <th>G+A-PK_90</th>\n",
       "      <th>xG_90</th>\n",
       "      <th>xAG_90</th>\n",
       "      <th>xG+xAG_90</th>\n",
       "      <th>npxG_90</th>\n",
       "      <th>npxG+xAG_90</th>\n",
       "      <th>normalized_name</th>\n",
       "      <th>Selected</th>\n",
       "    </tr>\n",
       "  </thead>\n",
       "  <tbody>\n",
       "    <tr>\n",
       "      <th>0</th>\n",
       "      <td>1</td>\n",
       "      <td>Max Aarons</td>\n",
       "      <td>eng ENG</td>\n",
       "      <td>DF</td>\n",
       "      <td>Bournemouth</td>\n",
       "      <td>eng Premier League</td>\n",
       "      <td>23.0</td>\n",
       "      <td>2000.0</td>\n",
       "      <td>20</td>\n",
       "      <td>13</td>\n",
       "      <td>...</td>\n",
       "      <td>0.07</td>\n",
       "      <td>0.00</td>\n",
       "      <td>0.07</td>\n",
       "      <td>0.00</td>\n",
       "      <td>0.06</td>\n",
       "      <td>0.06</td>\n",
       "      <td>0.00</td>\n",
       "      <td>0.06</td>\n",
       "      <td>max aarons</td>\n",
       "      <td>0</td>\n",
       "    </tr>\n",
       "    <tr>\n",
       "      <th>1</th>\n",
       "      <td>2</td>\n",
       "      <td>Brenden Aaronson</td>\n",
       "      <td>us USA</td>\n",
       "      <td>MF,FW</td>\n",
       "      <td>Union Berlin</td>\n",
       "      <td>de Bundesliga</td>\n",
       "      <td>22.0</td>\n",
       "      <td>2000.0</td>\n",
       "      <td>30</td>\n",
       "      <td>14</td>\n",
       "      <td>...</td>\n",
       "      <td>0.28</td>\n",
       "      <td>0.14</td>\n",
       "      <td>0.28</td>\n",
       "      <td>0.14</td>\n",
       "      <td>0.13</td>\n",
       "      <td>0.27</td>\n",
       "      <td>0.14</td>\n",
       "      <td>0.27</td>\n",
       "      <td>brenden aaronson</td>\n",
       "      <td>1</td>\n",
       "    </tr>\n",
       "    <tr>\n",
       "      <th>2</th>\n",
       "      <td>3</td>\n",
       "      <td>Paxten Aaronson</td>\n",
       "      <td>us USA</td>\n",
       "      <td>MF</td>\n",
       "      <td>Eint Frankfurt</td>\n",
       "      <td>de Bundesliga</td>\n",
       "      <td>19.0</td>\n",
       "      <td>2003.0</td>\n",
       "      <td>7</td>\n",
       "      <td>1</td>\n",
       "      <td>...</td>\n",
       "      <td>0.89</td>\n",
       "      <td>0.00</td>\n",
       "      <td>0.89</td>\n",
       "      <td>0.11</td>\n",
       "      <td>0.07</td>\n",
       "      <td>0.19</td>\n",
       "      <td>0.11</td>\n",
       "      <td>0.19</td>\n",
       "      <td>paxten aaronson</td>\n",
       "      <td>0</td>\n",
       "    </tr>\n",
       "    <tr>\n",
       "      <th>3</th>\n",
       "      <td>4</td>\n",
       "      <td>Keyliane Abdallah</td>\n",
       "      <td>fr FRA</td>\n",
       "      <td>FW</td>\n",
       "      <td>Marseille</td>\n",
       "      <td>fr Ligue 1</td>\n",
       "      <td>17.0</td>\n",
       "      <td>2006.0</td>\n",
       "      <td>1</td>\n",
       "      <td>0</td>\n",
       "      <td>...</td>\n",
       "      <td>0.00</td>\n",
       "      <td>0.00</td>\n",
       "      <td>0.00</td>\n",
       "      <td>0.00</td>\n",
       "      <td>0.00</td>\n",
       "      <td>0.00</td>\n",
       "      <td>0.00</td>\n",
       "      <td>0.00</td>\n",
       "      <td>keyliane abdallah</td>\n",
       "      <td>0</td>\n",
       "    </tr>\n",
       "    <tr>\n",
       "      <th>4</th>\n",
       "      <td>5</td>\n",
       "      <td>Yunis Abdelhamid</td>\n",
       "      <td>ma MAR</td>\n",
       "      <td>DF</td>\n",
       "      <td>Reims</td>\n",
       "      <td>fr Ligue 1</td>\n",
       "      <td>35.0</td>\n",
       "      <td>1987.0</td>\n",
       "      <td>31</td>\n",
       "      <td>31</td>\n",
       "      <td>...</td>\n",
       "      <td>0.13</td>\n",
       "      <td>0.10</td>\n",
       "      <td>0.10</td>\n",
       "      <td>0.11</td>\n",
       "      <td>0.01</td>\n",
       "      <td>0.12</td>\n",
       "      <td>0.09</td>\n",
       "      <td>0.09</td>\n",
       "      <td>yunis abdelhamid</td>\n",
       "      <td>0</td>\n",
       "    </tr>\n",
       "  </tbody>\n",
       "</table>\n",
       "<p>5 rows × 39 columns</p>\n",
       "</div>"
      ],
      "text/plain": [
       "   Rk             Player   Nation    Pos           Squad                Comp  \\\n",
       "0   1         Max Aarons  eng ENG     DF     Bournemouth  eng Premier League   \n",
       "1   2   Brenden Aaronson   us USA  MF,FW    Union Berlin       de Bundesliga   \n",
       "2   3    Paxten Aaronson   us USA     MF  Eint Frankfurt       de Bundesliga   \n",
       "3   4  Keyliane Abdallah   fr FRA     FW       Marseille          fr Ligue 1   \n",
       "4   5   Yunis Abdelhamid   ma MAR     DF           Reims          fr Ligue 1   \n",
       "\n",
       "    Age    Born  MP  Starts  ...  G+A_90  G-PK_90  G+A-PK_90  xG_90  xAG_90  \\\n",
       "0  23.0  2000.0  20      13  ...    0.07     0.00       0.07   0.00    0.06   \n",
       "1  22.0  2000.0  30      14  ...    0.28     0.14       0.28   0.14    0.13   \n",
       "2  19.0  2003.0   7       1  ...    0.89     0.00       0.89   0.11    0.07   \n",
       "3  17.0  2006.0   1       0  ...    0.00     0.00       0.00   0.00    0.00   \n",
       "4  35.0  1987.0  31      31  ...    0.13     0.10       0.10   0.11    0.01   \n",
       "\n",
       "   xG+xAG_90  npxG_90  npxG+xAG_90    normalized_name  Selected  \n",
       "0       0.06     0.00         0.06         max aarons         0  \n",
       "1       0.27     0.14         0.27   brenden aaronson         1  \n",
       "2       0.19     0.11         0.19    paxten aaronson         0  \n",
       "3       0.00     0.00         0.00  keyliane abdallah         0  \n",
       "4       0.12     0.09         0.09   yunis abdelhamid         0  \n",
       "\n",
       "[5 rows x 39 columns]"
      ]
     },
     "execution_count": 25,
     "metadata": {},
     "output_type": "execute_result"
    }
   ],
   "source": [
    "\n",
    "# Combine given and family names from national team dataset\n",
    "df_national[\"full_name\"] = (df_national[\"given_name\"] + \" \" + df_national[\"family_name\"]).str.lower().str.strip()\n",
    "\n",
    "# Normalize player names in original dataset\n",
    "df_original[\"normalized_name\"] = df_original[\"Player\"].str.lower().str.strip()\n",
    "\n",
    "# Create a 'Selected' column based on match\n",
    "df_original[\"Selected\"] = df_original[\"normalized_name\"].isin(df_national[\"full_name\"]).astype(int)\n",
    "\n",
    "# Check how many players were marked as selected\n",
    "print(df_original[\"Selected\"].value_counts())\n",
    "\n",
    "# Preview the updated data\n",
    "df_original.head()\n"
   ]
  },
  {
   "cell_type": "code",
   "execution_count": 26,
   "id": "5f8e352b",
   "metadata": {},
   "outputs": [
    {
     "name": "stdout",
     "output_type": "stream",
     "text": [
      "Remaining rows: 2847\n"
     ]
    }
   ],
   "source": [
    "\n",
    "# Drop columns not useful for prediction\n",
    "df = df_original.drop(columns=[\n",
    "    \"Rk\", \"Player\", \"Squad\", \"Comp\", \"Born\", \"Nation\", \"Pos\", \"normalized_name\"\n",
    "])\n",
    "\n",
    "# Drop rows with missing values (or optionally use df.fillna())\n",
    "df = df.dropna()\n",
    "\n",
    "# Confirm clean data\n",
    "print(\"Remaining rows:\", df.shape[0])\n"
   ]
  },
  {
   "cell_type": "code",
   "execution_count": 27,
   "id": "ef87d88b",
   "metadata": {},
   "outputs": [
    {
     "data": {
      "image/png": "[encoded data removed]",
      "text/plain": [
       "<Figure size 1000x600 with 2 Axes>"
      ]
     },
     "metadata": {},
     "output_type": "display_data"
    }
   ],
   "source": [
    "\n",
    "# Only keep numeric features for correlation\n",
    "corr = df.corr(numeric_only=True)\n",
    "\n",
    "# Correlation with target\n",
    "plt.figure(figsize=(10, 6))\n",
    "sns.heatmap(corr[[\"Selected\"]].sort_values(by=\"Selected\", ascending=False), annot=True, cmap=\"coolwarm\")\n",
    "plt.title(\"Correlation of Features with National Team Selection\")\n",
    "plt.show()\n",
    "\n"
   ]
  },
  {
   "cell_type": "code",
   "execution_count": 28,
   "id": "69b5030f",
   "metadata": {},
   "outputs": [],
   "source": [
    "\n",
    "# Separate features and target\n",
    "X = df.drop(columns=[\"Selected\"])\n",
    "y = df[\"Selected\"]\n",
    "\n",
    "\n",
    "     "
   ]
  },
  {
   "cell_type": "code",
   "execution_count": 29,
   "id": "89da331a",
   "metadata": {},
   "outputs": [
    {
     "name": "stderr",
     "output_type": "stream",
     "text": [
      "/opt/anaconda3/lib/python3.12/site-packages/sklearn/linear_model/_logistic.py:469: ConvergenceWarning: lbfgs failed to converge (status=1):\n",
      "STOP: TOTAL NO. of ITERATIONS REACHED LIMIT.\n",
      "\n",
      "Increase the number of iterations (max_iter) or scale the data as shown in:\n",
      "    https://scikit-learn.org/stable/modules/preprocessing.html\n",
      "Please also refer to the documentation for alternative solver options:\n",
      "    https://scikit-learn.org/stable/modules/linear_model.html#logistic-regression\n",
      "  n_iter_i = _check_optimize_result(\n"
     ]
    },
    {
     "name": "stdout",
     "output_type": "stream",
     "text": [
      "Logistic Regression Results:\n",
      "Accuracy: 0.8157894736842105\n",
      "              precision    recall  f1-score   support\n",
      "\n",
      "           0       0.83      0.97      0.90       472\n",
      "           1       0.32      0.06      0.10        98\n",
      "\n",
      "    accuracy                           0.82       570\n",
      "   macro avg       0.57      0.52      0.50       570\n",
      "weighted avg       0.74      0.82      0.76       570\n",
      "\n",
      "\n",
      "Random Forest Results:\n",
      "Accuracy: 0.8175438596491228\n",
      "              precision    recall  f1-score   support\n",
      "\n",
      "           0       0.84      0.97      0.90       472\n",
      "           1       0.36      0.08      0.13        98\n",
      "\n",
      "    accuracy                           0.82       570\n",
      "   macro avg       0.60      0.53      0.52       570\n",
      "weighted avg       0.75      0.82      0.77       570\n",
      "\n"
     ]
    }
   ],
   "source": [
    "\n",
    "# Split the dataset\n",
    "X = df.drop(columns=[\"Selected\"])\n",
    "y = df[\"Selected\"]\n",
    "\n",
    "X_train, X_test, y_train, y_test = train_test_split(X, y, test_size=0.2, random_state=42, stratify=y)\n",
    "\n",
    "# Initialize two models\n",
    "logreg = LogisticRegression(max_iter=1000)\n",
    "rf = RandomForestClassifier(random_state=42)\n",
    "\n",
    "# Train both models\n",
    "logreg.fit(X_train, y_train)\n",
    "rf.fit(X_train, y_train)\n",
    "\n",
    "# Predict on test set\n",
    "y_pred_logreg = logreg.predict(X_test)\n",
    "y_pred_rf = rf.predict(X_test)\n",
    "\n",
    "# Evaluation: Logistic Regression\n",
    "print(\"Logistic Regression Results:\")\n",
    "print(\"Accuracy:\", accuracy_score(y_test, y_pred_logreg))\n",
    "print(classification_report(y_test, y_pred_logreg))\n",
    "\n",
    "# Evaluation: Random Forest\n",
    "print(\"\\nRandom Forest Results:\")\n",
    "print(\"Accuracy:\", accuracy_score(y_test, y_pred_rf))\n",
    "print(classification_report(y_test, y_pred_rf))\n"
   ]
  },
  {
   "cell_type": "code",
   "execution_count": 30,
   "id": "b8b6426d",
   "metadata": {},
   "outputs": [
    {
     "name": "stderr",
     "output_type": "stream",
     "text": [
      "/var/folders/hy/hnmjt1t55xj2lz4jp45jcw680000gn/T/ipykernel_14146/3687167180.py:9: FutureWarning: \n",
      "\n",
      "Passing `palette` without assigning `hue` is deprecated and will be removed in v0.14.0. Assign the `y` variable to `hue` and set `legend=False` for the same effect.\n",
      "\n",
      "  sns.barplot(x=feat_imp.values, y=feat_imp.index, palette=\"viridis\")\n"
     ]
    },
    {
     "data": {
      "image/png": "[encoded data removed]",
      "text/plain": [
       "<Figure size 1000x600 with 1 Axes>"
      ]
     },
     "metadata": {},
     "output_type": "display_data"
    }
   ],
   "source": [
    "\n",
    "# Get importances and feature names\n",
    "importances = rf.feature_importances_\n",
    "features = X.columns\n",
    "\n",
    "# Sort and plot\n",
    "feat_imp = pd.Series(importances, index=features).sort_values(ascending=False)\n",
    "\n",
    "plt.figure(figsize=(10, 6))\n",
    "sns.barplot(x=feat_imp.values, y=feat_imp.index, palette=\"viridis\")\n",
    "plt.title(\"Feature Importance - Random Forest\")\n",
    "plt.xlabel(\"Importance\")\n",
    "plt.ylabel(\"Feature\")\n",
    "plt.tight_layout()\n",
    "plt.show()\n",
    "\n",
    "\n",
    "     "
   ]
  },
  {
   "cell_type": "code",
   "execution_count": 31,
   "id": "499aa815",
   "metadata": {},
   "outputs": [
    {
     "data": {
      "image/png": "[encoded data removed]",
      "text/plain": [
       "<Figure size 1200x500 with 4 Axes>"
      ]
     },
     "metadata": {},
     "output_type": "display_data"
    }
   ],
   "source": [
    "\n",
    "# Confusion Matrices\n",
    "cm_logreg = confusion_matrix(y_test, y_pred_logreg)\n",
    "cm_rf = confusion_matrix(y_test, y_pred_rf)\n",
    "\n",
    "# Plot confusion matrices\n",
    "fig, axes = plt.subplots(1, 2, figsize=(12, 5))\n",
    "\n",
    "sns.heatmap(cm_logreg, annot=True, fmt=\"d\", cmap=\"Blues\", ax=axes[0])\n",
    "axes[0].set_title(\"Logistic Regression Confusion Matrix\")\n",
    "axes[0].set_xlabel(\"Predicted\")\n",
    "axes[0].set_ylabel(\"Actual\")\n",
    "\n",
    "sns.heatmap(cm_rf, annot=True, fmt=\"d\", cmap=\"Greens\", ax=axes[1])\n",
    "axes[1].set_title(\"Random Forest Confusion Matrix\")\n",
    "axes[1].set_xlabel(\"Predicted\")\n",
    "axes[1].set_ylabel(\"Actual\")\n",
    "\n",
    "plt.tight_layout()\n",
    "plt.show()\n"
   ]
  },
  {
   "cell_type": "code",
   "execution_count": 32,
   "id": "2a211b93",
   "metadata": {},
   "outputs": [
    {
     "name": "stdout",
     "output_type": "stream",
     "text": [
      "Selected\n",
      "0    0.828943\n",
      "1    0.171057\n",
      "Name: proportion, dtype: float64\n"
     ]
    }
   ],
   "source": [
    "\n",
    "\n",
    "# Check class distribution\n",
    "print(y.value_counts(normalize=True))\n"
   ]
  },
  {
   "cell_type": "code",
   "execution_count": 33,
   "id": "f66ce480",
   "metadata": {},
   "outputs": [
    {
     "name": "stdout",
     "output_type": "stream",
     "text": [
      "📌 Logistic Regression\n",
      "              precision    recall  f1-score   support\n",
      "\n",
      "Not Selected       0.83      0.97      0.90       472\n",
      "    Selected       0.32      0.06      0.10        98\n",
      "\n",
      "    accuracy                           0.82       570\n",
      "   macro avg       0.57      0.52      0.50       570\n",
      "weighted avg       0.74      0.82      0.76       570\n",
      "\n",
      "\n",
      "📌 Random Forest\n",
      "              precision    recall  f1-score   support\n",
      "\n",
      "Not Selected       0.84      0.97      0.90       472\n",
      "    Selected       0.36      0.08      0.13        98\n",
      "\n",
      "    accuracy                           0.82       570\n",
      "   macro avg       0.60      0.53      0.52       570\n",
      "weighted avg       0.75      0.82      0.77       570\n",
      "\n"
     ]
    }
   ],
   "source": [
    "\n",
    "# Logistic Regression Report\n",
    "print(\"📌 Logistic Regression\")\n",
    "print(classification_report(y_test, y_pred_logreg, target_names=[\"Not Selected\", \"Selected\"]))\n",
    "\n",
    "# Random Forest Report\n",
    "print(\"\\n📌 Random Forest\")\n",
    "print(classification_report(y_test, y_pred_rf, target_names=[\"Not Selected\", \"Selected\"]))\n",
    "\n"
   ]
  }
 ],
 "metadata": {
  "kernelspec": {
   "display_name": "base",
   "language": "python",
   "name": "python3"
  },
  "language_info": {
   "codemirror_mode": {
    "name": "ipython",
    "version": 3
   },
   "file_extension": ".py",
   "mimetype": "text/x-python",
   "name": "python",
   "nbconvert_exporter": "python",
   "pygments_lexer": "ipython3",
   "version": "3.12.4"
  }
 },
 "nbformat": 4,
 "nbformat_minor": 5
}
